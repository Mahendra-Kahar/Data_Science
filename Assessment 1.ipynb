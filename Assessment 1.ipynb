{
 "cells": [
  {
   "cell_type": "code",
   "execution_count": 5,
   "id": "e43e8554",
   "metadata": {},
   "outputs": [
    {
     "data": {
      "text/plain": [
       "[11, 89, 41, 32, 77, 90]"
      ]
     },
     "execution_count": 5,
     "metadata": {},
     "output_type": "execute_result"
    }
   ],
   "source": [
    "#Create two lists a & b, where a has values -> (11,89,41,32,77,90) and b has values -> (95,24,39,15,74,22)\n",
    "a = [11,89,41,32,77,90]\n",
    "a"
   ]
  },
  {
   "cell_type": "code",
   "execution_count": 6,
   "id": "a7e4af7b",
   "metadata": {},
   "outputs": [
    {
     "data": {
      "text/plain": [
       "[95, 24, 39, 15, 74, 22]"
      ]
     },
     "execution_count": 6,
     "metadata": {},
     "output_type": "execute_result"
    }
   ],
   "source": [
    "#Create two lists a & b, where a has values -> (11,89,41,32,77,90) and b has values -> (95,24,39,15,74,22)\n",
    "b = [95,24,39,15,74,22]\n",
    "b "
   ]
  },
  {
   "cell_type": "code",
   "execution_count": 10,
   "id": "77d1ec96",
   "metadata": {},
   "outputs": [
    {
     "name": "stdout",
     "output_type": "stream",
     "text": [
      "a element value is less than b element value\n"
     ]
    }
   ],
   "source": [
    "a = [11,89,41,32,77,90]\n",
    "b = [95,24,39,15,74,22]\n",
    "\n",
    "a.sort() \n",
    "b.sort()\n",
    "\n",
    "if a == b: \n",
    "    print (\"a element value is greater than b element value\") \n",
    "else: \n",
    "    print (\"a element value is less than b element value\") "
   ]
  },
  {
   "cell_type": "code",
   "execution_count": 11,
   "id": "48a22660",
   "metadata": {},
   "outputs": [
    {
     "name": "stdout",
     "output_type": "stream",
     "text": [
      "Enter First Number: 9\n",
      "Enter Second Number: 2\n",
      "Enter which operation would you like to perform?\n",
      "Enter any of these char for specific operation +,-,*,/: *\n",
      "9 * 2 : 18\n"
     ]
    }
   ],
   "source": [
    "# Python program to perform Addition Subtraction Multiplication\n",
    "# and Division of two numbers\n",
    "\n",
    "num1 = int(input(\"Enter First Number: \"))\n",
    "num2 = int(input(\"Enter Second Number: \"))\n",
    "\n",
    "print(\"Enter which operation would you like to perform?\")\n",
    "ch = input(\"Enter any of these char for specific operation +,-,*,/: \")\n",
    "\n",
    "result = 0\n",
    "if ch == '+':\n",
    "    result = num1 + num2\n",
    "elif ch == '-':\n",
    "    result = num1 - num2\n",
    "elif ch == '*':\n",
    "    result = num1 * num2\n",
    "elif ch == '/':\n",
    "    result = num1 / num2\n",
    "else:\n",
    "    print(\"Input character is not recognized!\")\n",
    "\n",
    "print(num1, ch , num2, \":\", result)"
   ]
  },
  {
   "cell_type": "code",
   "execution_count": 20,
   "id": "8f5a0ced",
   "metadata": {},
   "outputs": [
    {
     "name": "stdout",
     "output_type": "stream",
     "text": [
      "Enter First Number: 7\n",
      "Enter Second Number: 8\n",
      "Enter which operation would you like to perform?\n",
      "Enter any of these char for specific operation 'Add','Sub','Mul','Dev': sUb\n",
      "7 sUb 8 : -1\n"
     ]
    }
   ],
   "source": [
    "# Python program to perform Addition Subtraction Multiplication\n",
    "# and Division of two numbers\n",
    "\n",
    "num1 = int(input(\"Enter First Number: \"))\n",
    "num2 = int(input(\"Enter Second Number: \"))\n",
    "\n",
    "print(\"Enter which operation would you like to perform?\")\n",
    "#ch = input(\"Enter any of these char for specific operation +,-,*,/: \")\n",
    "ch = input(\"Enter any of these char for specific operation 'Add','Sub','Mul','Dev': \")\n",
    "\n",
    "result = 0\n",
    "if ch.lower() == 'add':\n",
    "    result = num1 + num2\n",
    "elif ch.lower() == 'sub':\n",
    "    result = num1 - num2\n",
    "elif ch.lower() == 'mul':\n",
    "    result = num1 * num2\n",
    "elif ch.lower() == 'dev':\n",
    "    result = num1 / num2\n",
    "else:\n",
    "    print(\"Input character is not recognized!\")\n",
    "\n",
    "print(num1, ch , num2, \":\", result)"
   ]
  },
  {
   "cell_type": "code",
   "execution_count": 27,
   "id": "ab2df6a5",
   "metadata": {},
   "outputs": [
    {
     "name": "stdout",
     "output_type": "stream",
     "text": [
      "Enter number of elements : 2\n",
      "2\n",
      "4\n",
      "The list of number is \n",
      "[2, 4]\n",
      "The resultant tuple is :\n",
      "[(2, 4), (4, 16)]\n"
     ]
    }
   ],
   "source": [
    "#creating an empty list\n",
    "lst = []\n",
    "  \n",
    "#number of elements as input\n",
    "n = int(input(\"Enter number of elements : \"))\n",
    "  \n",
    "#iterating till the range\n",
    "for i in range(0, n):\n",
    "    ele = int(input())\n",
    "#adding the element\n",
    "    lst.append(ele)  \n",
    "print(\"The list of number is \")\n",
    "print(lst)\n",
    "\n",
    "print(\"The resultant tuple is :\")\n",
    "lst = [(val, pow(val, 2)) for val in lst]\n",
    "print(lst)\n"
   ]
  },
  {
   "cell_type": "code",
   "execution_count": 28,
   "id": "975a7a2e",
   "metadata": {},
   "outputs": [
    {
     "name": "stdout",
     "output_type": "stream",
     "text": [
      "2000 is a leap year\n"
     ]
    }
   ],
   "source": [
    "#Python program to check if year is a leap year or not\n",
    "\n",
    "year = 2000\n",
    "\n",
    "#To get year (integer input) from the user\n",
    "#year = int(input(\"Enter a year: \"))\n",
    "\n",
    "#divided by 100 means century year (ending with 00)\n",
    "#century year divided by 400 is leap year\n",
    "if (year % 400 == 0) and (year % 100 == 0):\n",
    "    print(\"{0} is a leap year\".format(year))\n",
    "\n",
    "#not divided by 100 means not a century year\n",
    "#year divided by 4 is a leap year\n",
    "elif (year % 4 ==0) and (year % 100 != 0):\n",
    "    print(\"{0} is a leap year\".format(year))\n",
    "\n",
    "#if not divided by both 400 (century year) and 4 (not century year)\n",
    "#year is not leap year\n",
    "else:\n",
    "    print(\"{0} is not a leap year\".format(year))"
   ]
  },
  {
   "cell_type": "code",
   "execution_count": 30,
   "id": "58e0c4fe",
   "metadata": {},
   "outputs": [
    {
     "name": "stdout",
     "output_type": "stream",
     "text": [
      "Enter year : 2023\n",
      "2023 is not a leap year.\n"
     ]
    }
   ],
   "source": [
    "#5.\tWrite a Function to check if the year number is a leap year or not. Print all Leap Years of 21st Century\n",
    "year = int(input('Enter year : '))\n",
    " \n",
    "if (year%4 == 0 and year%100 != 0) or (year%400 == 0) :\n",
    "    print(year, \"is a leap year.\")\n",
    "else :\n",
    "    print(year, \"is not a leap year.\")"
   ]
  },
  {
   "cell_type": "code",
   "execution_count": 31,
   "id": "b720e716",
   "metadata": {},
   "outputs": [
    {
     "name": "stdout",
     "output_type": "stream",
     "text": [
      "[2, 4, 6]\n"
     ]
    }
   ],
   "source": [
    "#6.\tWrite a Function to take an array and return another array that contains the members of the first array that are even\n",
    "array = [1,2,3,4,5,6] \n",
    " \n",
    "def even(array): \n",
    "\tnew_array = [] \n",
    "\tfor i in array: \n",
    "\t\tif i%2==0: \n",
    "\t\t\tnew_array.append(i) \n",
    "\treturn new_array \n",
    " \n",
    "print(even(array))"
   ]
  },
  {
   "cell_type": "code",
   "execution_count": 39,
   "id": "ec8562e4",
   "metadata": {},
   "outputs": [
    {
     "name": "stdout",
     "output_type": "stream",
     "text": [
      "[1, 3, 5]\n"
     ]
    }
   ],
   "source": [
    "array = [1,2,3,4,5,6] \n",
    " \n",
    "def odd(array): \n",
    "\tnew_array = [] \n",
    "\tfor i in array: \n",
    "\t\tif i%2!=0: \n",
    "\t\t\tnew_array.append(i) \n",
    "\treturn new_array \n",
    "\n",
    "print(odd(array))"
   ]
  },
  {
   "cell_type": "code",
   "execution_count": 40,
   "id": "354ea0a4",
   "metadata": {},
   "outputs": [
    {
     "name": "stdout",
     "output_type": "stream",
     "text": [
      "1 \n",
      "1 2 \n",
      "1 2 3 \n",
      "1 2 3 4 \n",
      "1 2 3 4 5 \n"
     ]
    }
   ],
   "source": [
    "#7.\tWrite a python code to print the following pattern. \n",
    "rows = 5\n",
    "for i in range(1, rows + 1):\n",
    "    for j in range(1, i + 1):\n",
    "        print(j, end=' ')\n",
    "    print('')"
   ]
  },
  {
   "cell_type": "code",
   "execution_count": null,
   "id": "6b9907d6",
   "metadata": {},
   "outputs": [],
   "source": []
  }
 ],
 "metadata": {
  "kernelspec": {
   "display_name": "Python 3 (ipykernel)",
   "language": "python",
   "name": "python3"
  },
  "language_info": {
   "codemirror_mode": {
    "name": "ipython",
    "version": 3
   },
   "file_extension": ".py",
   "mimetype": "text/x-python",
   "name": "python",
   "nbconvert_exporter": "python",
   "pygments_lexer": "ipython3",
   "version": "3.10.9"
  }
 },
 "nbformat": 4,
 "nbformat_minor": 5
}
